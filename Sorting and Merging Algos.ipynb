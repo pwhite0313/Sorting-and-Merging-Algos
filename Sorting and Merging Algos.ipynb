{
 "cells": [
  {
   "cell_type": "code",
   "execution_count": 116,
   "id": "15f42dc8",
   "metadata": {},
   "outputs": [
    {
     "name": "stdout",
     "output_type": "stream",
     "text": [
      "Generated list: [19, 3, 8, 1, 18, 7, 4, 13, 12, 10, 15, 6, 17, 16, 2] \n",
      " Target number 15\n"
     ]
    }
   ],
   "source": [
    "#Import necessary libraries\n",
    "import random\n",
    "\n",
    "#Create random list and ensure random target variable is in random list\\\n",
    "\n",
    "lst = random.sample(range(1,21),15)\n",
    "target = random.randint(1,21)\n",
    "while target not in lst:\n",
    "    target = random.randint(1,21)\n",
    "\n",
    "#Show generated variables\n",
    "print(f'Generated list: {lst} \\n Target number {target}')"
   ]
  },
  {
   "cell_type": "code",
   "execution_count": 123,
   "id": "4a48a197",
   "metadata": {},
   "outputs": [],
   "source": [
    "## Self written Sort Function Non-regression\n",
    "def Sort_Function(lst, target):\n",
    "    \n",
    "    #Initiate local variables for function\n",
    "    sorted_lst = sorted(lst, key=lambda x: int(x))\n",
    "    count = 0\n",
    "    \n",
    "    #loop to find Target variable\n",
    "    while len(sorted_lst) > 1:\n",
    "        \n",
    "        #Change variables per iteration\n",
    "        count += 1\n",
    "        midpoint = len(sorted_lst) // 2\n",
    "        \n",
    "        #Show work\n",
    "        print(f'Current count: {count} \\n Current list: {sorted_lst} \\n Current index: {midpoint} \\n')\n",
    "        \n",
    "        #Run Sort_Function conditionals\n",
    "        if target == sorted_lst[midpoint]:\n",
    "            return {f'Target Variable: {target} found in {count} iterations'}\n",
    "        if sorted_lst[midpoint] < target:\n",
    "            sorted_lst = sorted_lst[midpoint:]\n",
    "        else:\n",
    "            sorted_lst = sorted_lst[:midpoint]\n",
    "\n"
   ]
  },
  {
   "cell_type": "code",
   "execution_count": 124,
   "id": "3b87f484",
   "metadata": {},
   "outputs": [
    {
     "name": "stdout",
     "output_type": "stream",
     "text": [
      "Current count: 1 \n",
      " Current list: [1, 2, 3, 4, 6, 7, 8, 10, 12, 13, 15, 16, 17, 18, 19] \n",
      " Current index: 7 \n",
      "\n",
      "Current count: 2 \n",
      " Current list: [10, 12, 13, 15, 16, 17, 18, 19] \n",
      " Current index: 4 \n",
      "\n",
      "Current count: 3 \n",
      " Current list: [10, 12, 13, 15] \n",
      " Current index: 2 \n",
      "\n",
      "Current count: 4 \n",
      " Current list: [13, 15] \n",
      " Current index: 1 \n",
      "\n",
      "{'Target Variable: 15 found in 4 iterations'}\n"
     ]
    }
   ],
   "source": [
    "# Add Exceptions for failed sort--if necessary\n",
    "result = Sort_Function(lst, target)\n",
    "print(result)"
   ]
  },
  {
   "cell_type": "code",
   "execution_count": 119,
   "id": "78d05934",
   "metadata": {},
   "outputs": [
    {
     "name": "stdout",
     "output_type": "stream",
     "text": [
      "\n",
      "bubble sort: [1, 3, 5, 7, 2, 6, 25, 18, 13]\n",
      "bubble sort: [1, 3, 5, 2, 6, 7, 18, 13, 25]\n",
      "bubble sort: [1, 3, 2, 5, 6, 7, 13, 18, 25]\n",
      "bubble sort: [1, 2, 3, 5, 6, 7, 13, 18, 25]\n",
      "None\n",
      "[1, 2, 3, 5, 6, 7, 13, 18, 25]\n",
      "\n",
      "selection sort: [1, 3, 5, 7, 2, 6, 25, 18, 13]\n",
      "selection sort: [1, 3, 5, 7, 2, 6, 25, 18, 13]\n",
      "selection sort: [1, 2, 5, 7, 3, 6, 25, 18, 13]\n",
      "selection sort: [1, 2, 3, 7, 5, 6, 25, 18, 13]\n",
      "selection sort: [1, 2, 3, 5, 7, 6, 25, 18, 13]\n",
      "selection sort: [1, 2, 3, 5, 6, 7, 25, 18, 13]\n",
      "selection sort: [1, 2, 3, 5, 6, 7, 25, 18, 13]\n",
      "selection sort: [1, 2, 3, 5, 6, 7, 13, 25, 18]\n",
      "selection sort: [1, 2, 3, 5, 6, 7, 13, 18, 25]\n",
      "None\n",
      "[1, 2, 3, 5, 6, 7, 13, 18, 25]\n"
     ]
    }
   ],
   "source": [
    "# -*- coding: utf-8 -*-\n",
    "\"\"\"\n",
    "Created on Wed Oct 19 09:21:39 2016\n",
    "\n",
    "@author: ericgrimson\n",
    "\"\"\"\n",
    "\n",
    "def bubble_sort(L):\n",
    "    swap = False\n",
    "    while not swap:\n",
    "        print('bubble sort: ' + str(L))\n",
    "        swap = True\n",
    "        for j in range(1, len(L)):\n",
    "            if L[j-1] > L[j]:\n",
    "                swap = False\n",
    "                temp = L[j]\n",
    "                L[j] = L[j-1]\n",
    "                L[j-1] = temp\n",
    "\n",
    "testList = [1,3,5,7,2,6,25,18,13]\n",
    "\n",
    "print('')\n",
    "print(bubble_sort(testList))\n",
    "print(testList)\n",
    "\n",
    "\n",
    "def selection_sort(L):\n",
    "    suffixSt = 0\n",
    "    while suffixSt != len(L):\n",
    "        print('selection sort: ' + str(L))\n",
    "        for i in range(suffixSt, len(L)):\n",
    "            if L[i] < L[suffixSt]:\n",
    "                L[suffixSt], L[i] = L[i], L[suffixSt]\n",
    "        suffixSt += 1\n",
    " \n",
    "testList = [1,3,5,7,2,6,25,18,13]\n",
    "       \n",
    "print('')\n",
    "print(selection_sort(testList))\n",
    "print(testList)\n",
    "\n",
    "\n",
    "def merge(left, right):\n",
    "    result = []\n",
    "    i,j = 0,0\n",
    "    while i < len(left) and j < len(right):\n",
    "        if left[i] < right[j]:\n",
    "            result.append(left[i])\n",
    "            i += 1\n",
    "        else:\n",
    "            result.append(right[j])\n",
    "            j += 1\n",
    "    while (i < len(left)):\n",
    "        result.append(left[i])\n",
    "        i += 1\n",
    "    while (j < len(right)):\n",
    "        result.append(right[j])\n",
    "        j += 1\n",
    "    print('merge: ' + str(left) + '&' + str(right) + ' to ' +str(result))\n",
    "    return result\n",
    "\n",
    "def merge_sort(L):\n",
    "    print('merge sort: ' + str(L))\n",
    "    if len(L) < 2:\n",
    "        return L[:]\n",
    "    else:\n",
    "        middle = len(L)//2\n",
    "        left = merge_sort(L[:middle])\n",
    "        right = merge_sort(L[middle:])\n",
    "        return merge(left, right)\n",
    "        \n",
    "testList = [1,3,5,7,2,6,25,18,13]\n",
    "\n",
    "#print('')\n",
    "#print(merge_sort(testList))\n"
   ]
  },
  {
   "cell_type": "code",
   "execution_count": null,
   "id": "098d6e0f",
   "metadata": {},
   "outputs": [],
   "source": []
  }
 ],
 "metadata": {
  "kernelspec": {
   "display_name": "Python 3 (ipykernel)",
   "language": "python",
   "name": "python3"
  },
  "language_info": {
   "codemirror_mode": {
    "name": "ipython",
    "version": 3
   },
   "file_extension": ".py",
   "mimetype": "text/x-python",
   "name": "python",
   "nbconvert_exporter": "python",
   "pygments_lexer": "ipython3",
   "version": "3.9.7"
  }
 },
 "nbformat": 4,
 "nbformat_minor": 5
}
